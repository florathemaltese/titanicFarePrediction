{
 "cells": [
  {
   "cell_type": "markdown",
   "metadata": {},
   "source": [
    "\n",
    "#  Comprehensive Analysis of Random Forest Regressor and Critical Evaluation"
   ]
  },
  {
   "cell_type": "markdown",
   "metadata": {},
   "source": [
    "# 1. Reading in data"
   ]
  },
  {
   "cell_type": "code",
   "execution_count": 1,
   "metadata": {},
   "outputs": [],
   "source": [
    "import pandas as pd\n",
    "from sklearn.ensemble import RandomForestRegressor\n",
    "from pandas.api.types import is_string_dtype,is_numeric_dtype\n",
    "import seaborn as sns\n",
    "import matplotlib.pyplot as plt\n",
    "from sklearn.model_selection import train_test_split\n",
    "import numpy as np\n",
    "import os\n",
    "from sklearn.linear_model import LinearRegression\n",
    "from sklearn.metrics import mean_squared_error\n",
    "from sklearn.metrics import mean_squared_error, mean_absolute_error, r2_score\n",
    "\n",
    "%matplotlib inline"
   ]
  },
  {
   "cell_type": "code",
   "execution_count": 2,
   "metadata": {},
   "outputs": [
    {
     "name": "stdout",
     "output_type": "stream",
     "text": [
      "C:\\Users\\user\\DAMG6105-assignment1\n"
     ]
    }
   ],
   "source": [
    "print(os.getcwd())"
   ]
  },
  {
   "cell_type": "code",
   "execution_count": 3,
   "metadata": {},
   "outputs": [
    {
     "name": "stdout",
     "output_type": "stream",
     "text": [
      "(1309, 12)\n"
     ]
    },
    {
     "data": {
      "text/html": [
       "<div>\n",
       "<style scoped>\n",
       "    .dataframe tbody tr th:only-of-type {\n",
       "        vertical-align: middle;\n",
       "    }\n",
       "\n",
       "    .dataframe tbody tr th {\n",
       "        vertical-align: top;\n",
       "    }\n",
       "\n",
       "    .dataframe thead th {\n",
       "        text-align: right;\n",
       "    }\n",
       "</style>\n",
       "<table border=\"1\" class=\"dataframe\">\n",
       "  <thead>\n",
       "    <tr style=\"text-align: right;\">\n",
       "      <th></th>\n",
       "      <th>PassengerId</th>\n",
       "      <th>Survived</th>\n",
       "      <th>Pclass</th>\n",
       "      <th>Name</th>\n",
       "      <th>Sex</th>\n",
       "      <th>Age</th>\n",
       "      <th>SibSp</th>\n",
       "      <th>Parch</th>\n",
       "      <th>Ticket</th>\n",
       "      <th>Fare</th>\n",
       "      <th>Cabin</th>\n",
       "      <th>Embarked</th>\n",
       "    </tr>\n",
       "  </thead>\n",
       "  <tbody>\n",
       "    <tr>\n",
       "      <th>0</th>\n",
       "      <td>1</td>\n",
       "      <td>0</td>\n",
       "      <td>3</td>\n",
       "      <td>Braund, Mr. Owen Harris</td>\n",
       "      <td>male</td>\n",
       "      <td>22.0</td>\n",
       "      <td>1</td>\n",
       "      <td>0</td>\n",
       "      <td>A/5 21171</td>\n",
       "      <td>7.2500</td>\n",
       "      <td>NaN</td>\n",
       "      <td>S</td>\n",
       "    </tr>\n",
       "    <tr>\n",
       "      <th>1</th>\n",
       "      <td>2</td>\n",
       "      <td>1</td>\n",
       "      <td>1</td>\n",
       "      <td>Cumings, Mrs. John Bradley (Florence Briggs Th...</td>\n",
       "      <td>female</td>\n",
       "      <td>38.0</td>\n",
       "      <td>1</td>\n",
       "      <td>0</td>\n",
       "      <td>PC 17599</td>\n",
       "      <td>71.2833</td>\n",
       "      <td>C85</td>\n",
       "      <td>C</td>\n",
       "    </tr>\n",
       "  </tbody>\n",
       "</table>\n",
       "</div>"
      ],
      "text/plain": [
       "   PassengerId  Survived  Pclass  \\\n",
       "0            1         0       3   \n",
       "1            2         1       1   \n",
       "\n",
       "                                                Name     Sex   Age  SibSp  \\\n",
       "0                            Braund, Mr. Owen Harris    male  22.0      1   \n",
       "1  Cumings, Mrs. John Bradley (Florence Briggs Th...  female  38.0      1   \n",
       "\n",
       "   Parch     Ticket     Fare Cabin Embarked  \n",
       "0      0  A/5 21171   7.2500   NaN        S  \n",
       "1      0   PC 17599  71.2833   C85        C  "
      ]
     },
     "execution_count": 3,
     "metadata": {},
     "output_type": "execute_result"
    }
   ],
   "source": [
    "#Read in training data\n",
    "titanic_raw = pd.read_csv('Titanic_full.csv')\n",
    "# print the shape of the dataset\n",
    "print(titanic_raw.shape)\n",
    "# demonstrate the first 2 rows of the dataset\n",
    "titanic_raw.head(2)"
   ]
  },
  {
   "cell_type": "code",
   "execution_count": 4,
   "metadata": {},
   "outputs": [
    {
     "name": "stdout",
     "output_type": "stream",
     "text": [
      "<class 'pandas.core.frame.DataFrame'>\n",
      "RangeIndex: 1309 entries, 0 to 1308\n",
      "Data columns (total 12 columns):\n",
      " #   Column       Non-Null Count  Dtype  \n",
      "---  ------       --------------  -----  \n",
      " 0   PassengerId  1309 non-null   int64  \n",
      " 1   Survived     1309 non-null   int64  \n",
      " 2   Pclass       1309 non-null   int64  \n",
      " 3   Name         1309 non-null   object \n",
      " 4   Sex          1309 non-null   object \n",
      " 5   Age          1046 non-null   float64\n",
      " 6   SibSp        1309 non-null   int64  \n",
      " 7   Parch        1309 non-null   int64  \n",
      " 8   Ticket       1309 non-null   object \n",
      " 9   Fare         1308 non-null   float64\n",
      " 10  Cabin        295 non-null    object \n",
      " 11  Embarked     1307 non-null   object \n",
      "dtypes: float64(2), int64(5), object(5)\n",
      "memory usage: 122.8+ KB\n"
     ]
    }
   ],
   "source": [
    "# get the number of columns in the data frame, the column name of each column, and the data type of each column, such as integer (int64), floating point number (float64), object (usually string), etc.\n",
    "titanic_raw.info()"
   ]
  },
  {
   "cell_type": "markdown",
   "metadata": {},
   "source": [
    "# 2. Define functions for this machine learning exerise"
   ]
  },
  {
   "cell_type": "code",
   "execution_count": 5,
   "metadata": {},
   "outputs": [],
   "source": [
    "#Define functions to preprocess data - handle missing values, transform categorical variables and delete unnecessary fields.\n",
    "\n",
    "def fill_missing_values(df):\n",
    "    \"\"\"\n",
    "    Handling missing values\n",
    "    \"\"\"\n",
    "    # Fill missing values for Age with median\n",
    "    df['Age'].fillna(df['Age'].median(), inplace=True)\n",
    "\n",
    "    # Fill Cabin's missing values with mode\n",
    "    df['Cabin'].fillna(df['Cabin'].mode()[0],inplace=True)\n",
    "\n",
    "    # Fill Embarked's missing values with mode\n",
    "    df['Embarked'].fillna(df['Embarked'].mode()[0], inplace=True)\n",
    "\n",
    "    # Fill missing values of Fare with median\n",
    "    df['Fare'].fillna(df['Fare'].median(), inplace=True)\n",
    "    \n",
    "    return df\n",
    "\n",
    "def convert_categorical_variables(df):\n",
    "    \"\"\"\n",
    "   Convert categorical variables\n",
    "    \"\"\"\n",
    "    # Convert Sex field to numeric value\n",
    "    df['Sex'] = df['Sex'].map({'female': 0, 'male': 1}).astype(int)\n",
    "    \n",
    "    # Extract the letters in Cabin, perform one-hot encoding, and then delete the original \"Cabin\" column\n",
    "    df['Cabin_Letter'] = df['Cabin'].str.extract(r'([A-Za-z]+)')\n",
    "    df = pd.get_dummies(df, columns=['Cabin_Letter'], prefix='Cabin')\n",
    "    df.drop(['Cabin'], axis=1, inplace=True)\n",
    "\n",
    "    # One-Hot Encoding Embarked\n",
    "    df = pd.get_dummies(df, columns=['Embarked'], drop_first=True)\n",
    "    \n",
    "    return df\n",
    "\n",
    "def drop_unnecessary_fields(df):\n",
    "    \"\"\"\n",
    "    Remove unnecessary fields\n",
    "    \"\"\"\n",
    "    df.drop(['PassengerId','Name', 'Ticket'], axis=1, inplace=True)\n",
    "    return df\n"
   ]
  },
  {
   "cell_type": "code",
   "execution_count": 6,
   "metadata": {},
   "outputs": [],
   "source": [
    "'''Define functions to split data, regression metrics, and r-squared'''\n",
    "# This function is used to split a DataFrame df into two parts. The parameter num specifies the split point, and the function returns two new DataFrames: one is the first num rows of the original DataFrame, and the other is the remaining rows.\n",
    "def split_df(df,num):\n",
    "    return df[ :num].copy(),df[num: ].copy()\n",
    "\n",
    "# This function is a function that calculates Root Mean Square Error (RMSE). The lower the MSE value, the closer the model's predicted value is to the actual value.\n",
    "def my_rmse(y1,y2):\n",
    "    return np.sqrt(((y1-y2)**2).mean())\n",
    "\n",
    "# This function calculates and returns the R-squared (coefficient of determination) and RMSE values of the model on the training set and validation set.\n",
    "# R square is an index that measures the proportion of the model explaining the variation of the response variable. Its value is between 0 and 1. The higher the value, the better the model fits.\n",
    "# The function returns a string and a list containing the training set R-squared, the validation set R-squared, the training set RMSE, and the validation set RMSE.\n",
    "def rsq_n_rmse(my_model,x_train,y_train,x_val,y_val):\n",
    "    result = [my_model.score(x_train,y_train),my_model.score(x_val,y_val),\n",
    "             my_rmse(my_model.predict(x_train),y_train),my_rmse(my_model.predict(x_val),y_val)]\n",
    "    return \"train rsq,val rsq,train rmse, val rmse\", result\n"
   ]
  },
  {
   "cell_type": "markdown",
   "metadata": {},
   "source": [
    "# 3. Preprocess train data using the defined functions"
   ]
  },
  {
   "cell_type": "code",
   "execution_count": 7,
   "metadata": {},
   "outputs": [
    {
     "name": "stdout",
     "output_type": "stream",
     "text": [
      "   Survived  Pclass  Sex   Age  SibSp  Parch     Fare  Cabin_A  Cabin_B  \\\n",
      "0         0       3    1  22.0      1      0   7.2500    False    False   \n",
      "1         1       1    0  38.0      1      0  71.2833    False    False   \n",
      "2         1       3    0  26.0      0      0   7.9250    False    False   \n",
      "3         1       1    0  35.0      1      0  53.1000    False    False   \n",
      "4         0       3    1  35.0      0      0   8.0500    False    False   \n",
      "\n",
      "   Cabin_C  Cabin_D  Cabin_E  Cabin_F  Cabin_G  Cabin_T  Embarked_Q  \\\n",
      "0     True    False    False    False    False    False       False   \n",
      "1     True    False    False    False    False    False       False   \n",
      "2     True    False    False    False    False    False       False   \n",
      "3     True    False    False    False    False    False       False   \n",
      "4     True    False    False    False    False    False       False   \n",
      "\n",
      "   Embarked_S  \n",
      "0        True  \n",
      "1       False  \n",
      "2        True  \n",
      "3        True  \n",
      "4        True  \n"
     ]
    }
   ],
   "source": [
    "# Preprocess train data using the defined functions\n",
    "titanic_raw = fill_missing_values(titanic_raw)\n",
    "titanic_raw = convert_categorical_variables(titanic_raw)\n",
    "titanic_raw = drop_unnecessary_fields(titanic_raw)\n",
    "print(titanic_raw.head())"
   ]
  },
  {
   "cell_type": "code",
   "execution_count": 8,
   "metadata": {},
   "outputs": [],
   "source": [
    "# Separate the feature set and target variables from the titanic_raw DataFrame\n",
    "# Created a new DataFrame x, which is a feature set containing all data in titanic_raw except the Fare column.\n",
    "x = titanic_raw.drop('Fare', axis=1)\n",
    "# Creates a new Series y, which is the target variable and contains only the data of the Fare column in titanic_raw.drop.\n",
    "y = titanic_raw['Fare']"
   ]
  },
  {
   "cell_type": "code",
   "execution_count": 9,
   "metadata": {},
   "outputs": [],
   "source": [
    "# use a subset to tune hyperparamters\n",
    "# Use the split_df function, but this time they split the first 1200 samples from each of the x and y datasets\n",
    "x_sub,_ = split_df(x,1200)\n",
    "y_sub,_ = split_df(y,1200)"
   ]
  },
  {
   "cell_type": "code",
   "execution_count": 10,
   "metadata": {},
   "outputs": [],
   "source": [
    "# split the smaller subset into train and validation sets\n",
    "# x_trn and y_trn are the features and target variables of the training set. This is the part of the data that the model learns from.\n",
    "# x_val and y_val are the features and target variables of the validation set. This part of the data is used to evaluate the performance of the model\n",
    "x_trn,x_val = split_df(x_sub,600)\n",
    "y_trn,y_val = split_df(y_sub,600)"
   ]
  },
  {
   "cell_type": "code",
   "execution_count": 11,
   "metadata": {},
   "outputs": [
    {
     "name": "stdout",
     "output_type": "stream",
     "text": [
      "(600, 16) (600, 16) (600,) (600,)\n"
     ]
    }
   ],
   "source": [
    "# x_trn.shape represents the shape of the training set feature data; x_val.shape represents the shape of the verification set feature data; y_trn.shape represents the shape of the training set target variable data; y_val.shape represents the shape of the verification set target variable data.\n",
    "print(x_trn.shape,x_val.shape,y_trn.shape,y_val.shape)"
   ]
  },
  {
   "cell_type": "markdown",
   "metadata": {},
   "source": [
    "# 4. Model building, hyperparameter tuning, and some exploratory data analysis (EDA)"
   ]
  },
  {
   "cell_type": "code",
   "execution_count": 12,
   "metadata": {},
   "outputs": [],
   "source": [
    "'''Create a RandomForestRegressor model with \n",
    "specified parameters. RandomForestRegressor is an \n",
    "ensemble learning method for regression that operates by \n",
    "constructing multiple decision trees at training time and \n",
    "outputting the average prediction of the individual trees'''\n",
    "\n",
    "# n_estimators: The number of trees in the forest. Increasing the number of trees generally improves the performance of the model but also increases computational cost.\n",
    "# max_depth: The maximum depth of the tree. A deeper tree may capture more information about the data, but can also lead to overfitting. Setting it to a high value (like 40000) may not be practical or beneficial, as it can lead to excessively deep trees.\n",
    "# min_samples_leaf: The minimum number of samples required to be at a leaf node. This parameter controls the complexity of the trees by specifying the minimum number of samples required to split an internal node. Setting it to a higher value (like 25) can help prevent overfitting by preventing the model from creating nodes that have too few samples.\n",
    "# n_jobs: The number of jobs to run in parallel for both fit and predict. -1 means using all processors.\n",
    "# oob_score: Whether to use out-of-bag samples to estimate the R^2 on unseen data. Out-of-bag samples are the samples not used during a particular bootstrap iteration and can be used as an additional validation set.\n",
    "mod_1 = RandomForestRegressor(\n",
    "    n_estimators=50,           # Number of trees in the forest\n",
    "    max_depth=5,           # Maximum depth of each tree\n",
    "    min_samples_leaf=25,       # Minimum number of samples required to be at a leaf node\n",
    "    n_jobs=-1,                 # Use all available processors for training and prediction\n",
    "    oob_score=False           # Do not use out-of-bag samples for evaluation\n",
    ")"
   ]
  },
  {
   "cell_type": "code",
   "execution_count": 13,
   "metadata": {},
   "outputs": [
    {
     "data": {
      "text/html": [
       "<style>#sk-container-id-1 {color: black;}#sk-container-id-1 pre{padding: 0;}#sk-container-id-1 div.sk-toggleable {background-color: white;}#sk-container-id-1 label.sk-toggleable__label {cursor: pointer;display: block;width: 100%;margin-bottom: 0;padding: 0.3em;box-sizing: border-box;text-align: center;}#sk-container-id-1 label.sk-toggleable__label-arrow:before {content: \"▸\";float: left;margin-right: 0.25em;color: #696969;}#sk-container-id-1 label.sk-toggleable__label-arrow:hover:before {color: black;}#sk-container-id-1 div.sk-estimator:hover label.sk-toggleable__label-arrow:before {color: black;}#sk-container-id-1 div.sk-toggleable__content {max-height: 0;max-width: 0;overflow: hidden;text-align: left;background-color: #f0f8ff;}#sk-container-id-1 div.sk-toggleable__content pre {margin: 0.2em;color: black;border-radius: 0.25em;background-color: #f0f8ff;}#sk-container-id-1 input.sk-toggleable__control:checked~div.sk-toggleable__content {max-height: 200px;max-width: 100%;overflow: auto;}#sk-container-id-1 input.sk-toggleable__control:checked~label.sk-toggleable__label-arrow:before {content: \"▾\";}#sk-container-id-1 div.sk-estimator input.sk-toggleable__control:checked~label.sk-toggleable__label {background-color: #d4ebff;}#sk-container-id-1 div.sk-label input.sk-toggleable__control:checked~label.sk-toggleable__label {background-color: #d4ebff;}#sk-container-id-1 input.sk-hidden--visually {border: 0;clip: rect(1px 1px 1px 1px);clip: rect(1px, 1px, 1px, 1px);height: 1px;margin: -1px;overflow: hidden;padding: 0;position: absolute;width: 1px;}#sk-container-id-1 div.sk-estimator {font-family: monospace;background-color: #f0f8ff;border: 1px dotted black;border-radius: 0.25em;box-sizing: border-box;margin-bottom: 0.5em;}#sk-container-id-1 div.sk-estimator:hover {background-color: #d4ebff;}#sk-container-id-1 div.sk-parallel-item::after {content: \"\";width: 100%;border-bottom: 1px solid gray;flex-grow: 1;}#sk-container-id-1 div.sk-label:hover label.sk-toggleable__label {background-color: #d4ebff;}#sk-container-id-1 div.sk-serial::before {content: \"\";position: absolute;border-left: 1px solid gray;box-sizing: border-box;top: 0;bottom: 0;left: 50%;z-index: 0;}#sk-container-id-1 div.sk-serial {display: flex;flex-direction: column;align-items: center;background-color: white;padding-right: 0.2em;padding-left: 0.2em;position: relative;}#sk-container-id-1 div.sk-item {position: relative;z-index: 1;}#sk-container-id-1 div.sk-parallel {display: flex;align-items: stretch;justify-content: center;background-color: white;position: relative;}#sk-container-id-1 div.sk-item::before, #sk-container-id-1 div.sk-parallel-item::before {content: \"\";position: absolute;border-left: 1px solid gray;box-sizing: border-box;top: 0;bottom: 0;left: 50%;z-index: -1;}#sk-container-id-1 div.sk-parallel-item {display: flex;flex-direction: column;z-index: 1;position: relative;background-color: white;}#sk-container-id-1 div.sk-parallel-item:first-child::after {align-self: flex-end;width: 50%;}#sk-container-id-1 div.sk-parallel-item:last-child::after {align-self: flex-start;width: 50%;}#sk-container-id-1 div.sk-parallel-item:only-child::after {width: 0;}#sk-container-id-1 div.sk-dashed-wrapped {border: 1px dashed gray;margin: 0 0.4em 0.5em 0.4em;box-sizing: border-box;padding-bottom: 0.4em;background-color: white;}#sk-container-id-1 div.sk-label label {font-family: monospace;font-weight: bold;display: inline-block;line-height: 1.2em;}#sk-container-id-1 div.sk-label-container {text-align: center;}#sk-container-id-1 div.sk-container {/* jupyter's `normalize.less` sets `[hidden] { display: none; }` but bootstrap.min.css set `[hidden] { display: none !important; }` so we also need the `!important` here to be able to override the default hidden behavior on the sphinx rendered scikit-learn.org. See: https://github.com/scikit-learn/scikit-learn/issues/21755 */display: inline-block !important;position: relative;}#sk-container-id-1 div.sk-text-repr-fallback {display: none;}</style><div id=\"sk-container-id-1\" class=\"sk-top-container\"><div class=\"sk-text-repr-fallback\"><pre>RandomForestRegressor(max_depth=5, min_samples_leaf=25, n_estimators=50,\n",
       "                      n_jobs=-1)</pre><b>In a Jupyter environment, please rerun this cell to show the HTML representation or trust the notebook. <br />On GitHub, the HTML representation is unable to render, please try loading this page with nbviewer.org.</b></div><div class=\"sk-container\" hidden><div class=\"sk-item\"><div class=\"sk-estimator sk-toggleable\"><input class=\"sk-toggleable__control sk-hidden--visually\" id=\"sk-estimator-id-1\" type=\"checkbox\" checked><label for=\"sk-estimator-id-1\" class=\"sk-toggleable__label sk-toggleable__label-arrow\">RandomForestRegressor</label><div class=\"sk-toggleable__content\"><pre>RandomForestRegressor(max_depth=5, min_samples_leaf=25, n_estimators=50,\n",
       "                      n_jobs=-1)</pre></div></div></div></div></div>"
      ],
      "text/plain": [
       "RandomForestRegressor(max_depth=5, min_samples_leaf=25, n_estimators=50,\n",
       "                      n_jobs=-1)"
      ]
     },
     "execution_count": 13,
     "metadata": {},
     "output_type": "execute_result"
    }
   ],
   "source": [
    "#Fit the model, use the fit method to fit the model. The incoming training data are x_trn and y_trn, which represent feature data and target data (i.e. features and labels) respectively.\n",
    "\n",
    "mod_1.fit(x_trn,y_trn)"
   ]
  },
  {
   "cell_type": "code",
   "execution_count": 14,
   "metadata": {},
   "outputs": [
    {
     "data": {
      "text/plain": [
       "('train rsq,val rsq,train rmse, val rmse',\n",
       " [0.5398007462595196,\n",
       "  0.41407770777654385,\n",
       "  31.373517526210975,\n",
       "  41.402241570200985])"
      ]
     },
     "execution_count": 14,
     "metadata": {},
     "output_type": "execute_result"
    }
   ],
   "source": [
    "#test out rsq_n_rmse function\n",
    "\n",
    "rsq_n_rmse(mod_1,x_trn,y_trn,x_val,y_val)"
   ]
  },
  {
   "cell_type": "code",
   "execution_count": 15,
   "metadata": {},
   "outputs": [
    {
     "name": "stdout",
     "output_type": "stream",
     "text": [
      "Fitting 5 folds for each of 3 candidates, totalling 15 fits\n",
      "Best parameters found: {'n_estimators': 200, 'max_features': None, 'max_depth': 20}\n"
     ]
    }
   ],
   "source": [
    "# Perform a random search to find the best parameters for the random forest regressor.\n",
    "from sklearn.model_selection import RandomizedSearchCV\n",
    "\n",
    "#param_grid defines the parameter space to be searched. Here, we define three parameters:\n",
    "# n_estimators: Number of decision trees.\n",
    "# max_depth: The maximum depth of each tree.\n",
    "# max_features: Number of features to consider when finding the best split.\n",
    "param_grid = {\n",
    "    'n_estimators': [50,200],   # Number of trees in the forest\n",
    "    'max_depth': [2, 20], # Maximum depth of each tree\n",
    "    'max_features': [None, 'sqrt'], # Number of features to consider when looking for the best split\n",
    "    \n",
    "}\n",
    "\n",
    "# Create a RandomForestRegressor model\n",
    "rf = RandomForestRegressor()\n",
    "\n",
    "# Create RandomizedSearchCV object to perform random search\n",
    "random_search = RandomizedSearchCV(estimator=rf, \n",
    "                                   param_distributions=param_grid\n",
    "                                   , n_iter=3, cv=5, \n",
    "                                   verbose=2, random_state=42, \n",
    "                                   n_jobs=-1)\n",
    "\n",
    "# Fit the RandomizedSearchCV object to the data, call random_search.fit(x_trn, y_trn) to fit the data and find the best parameter combination.\n",
    "random_search.fit(x_trn, y_trn)\n",
    "\n",
    "# Print the best parameters found\n",
    "print(\"Best parameters found:\", random_search.best_params_)\n",
    "\n",
    "# Get the best model\n",
    "best_model = random_search.best_estimator_"
   ]
  },
  {
   "cell_type": "code",
   "execution_count": 16,
   "metadata": {},
   "outputs": [
    {
     "name": "stdout",
     "output_type": "stream",
     "text": [
      "Fitting 5 folds for each of 5 candidates, totalling 25 fits\n",
      "Best parameters found: {'n_estimators': 200, 'max_features': 'sqrt', 'max_depth': 20}\n"
     ]
    }
   ],
   "source": [
    "# Adjust parameters and perform a random search to find the best parameters for the random forest regressor.\n",
    "param_grid = {\n",
    "    'n_estimators': [100,200],   # Number of trees in the forest\n",
    "    'max_depth': [2, 20], # Maximum depth of each tree\n",
    "    'max_features': [None, 'sqrt'], # Number of features to consider when looking for the best split\n",
    "    \n",
    "}\n",
    "\n",
    "# Create a RandomForestRegressor model\n",
    "rf = RandomForestRegressor()\n",
    "\n",
    "# Create RandomizedSearchCV object to perform a random search, the parameters here are modified\n",
    "random_search = RandomizedSearchCV(estimator=rf, \n",
    "                                   param_distributions=param_grid\n",
    "                                   , n_iter=5, cv=5, \n",
    "                                   verbose=2, random_state=42, \n",
    "                                   n_jobs=-1)\n",
    "\n",
    "# Fit the RandomizedSearchCV object to the data, call random_search.fit(x_trn, y_trn) to fit the data and find the best parameter combination.\n",
    "random_search.fit(x_trn, y_trn)\n",
    "\n",
    "# Print the best parameters found\n",
    "print(\"Best parameters found:\", random_search.best_params_)\n",
    "\n",
    "# Get the best model\n",
    "best_model2 = random_search.best_estimator_"
   ]
  },
  {
   "cell_type": "code",
   "execution_count": 17,
   "metadata": {},
   "outputs": [
    {
     "data": {
      "text/html": [
       "<style>#sk-container-id-2 {color: black;}#sk-container-id-2 pre{padding: 0;}#sk-container-id-2 div.sk-toggleable {background-color: white;}#sk-container-id-2 label.sk-toggleable__label {cursor: pointer;display: block;width: 100%;margin-bottom: 0;padding: 0.3em;box-sizing: border-box;text-align: center;}#sk-container-id-2 label.sk-toggleable__label-arrow:before {content: \"▸\";float: left;margin-right: 0.25em;color: #696969;}#sk-container-id-2 label.sk-toggleable__label-arrow:hover:before {color: black;}#sk-container-id-2 div.sk-estimator:hover label.sk-toggleable__label-arrow:before {color: black;}#sk-container-id-2 div.sk-toggleable__content {max-height: 0;max-width: 0;overflow: hidden;text-align: left;background-color: #f0f8ff;}#sk-container-id-2 div.sk-toggleable__content pre {margin: 0.2em;color: black;border-radius: 0.25em;background-color: #f0f8ff;}#sk-container-id-2 input.sk-toggleable__control:checked~div.sk-toggleable__content {max-height: 200px;max-width: 100%;overflow: auto;}#sk-container-id-2 input.sk-toggleable__control:checked~label.sk-toggleable__label-arrow:before {content: \"▾\";}#sk-container-id-2 div.sk-estimator input.sk-toggleable__control:checked~label.sk-toggleable__label {background-color: #d4ebff;}#sk-container-id-2 div.sk-label input.sk-toggleable__control:checked~label.sk-toggleable__label {background-color: #d4ebff;}#sk-container-id-2 input.sk-hidden--visually {border: 0;clip: rect(1px 1px 1px 1px);clip: rect(1px, 1px, 1px, 1px);height: 1px;margin: -1px;overflow: hidden;padding: 0;position: absolute;width: 1px;}#sk-container-id-2 div.sk-estimator {font-family: monospace;background-color: #f0f8ff;border: 1px dotted black;border-radius: 0.25em;box-sizing: border-box;margin-bottom: 0.5em;}#sk-container-id-2 div.sk-estimator:hover {background-color: #d4ebff;}#sk-container-id-2 div.sk-parallel-item::after {content: \"\";width: 100%;border-bottom: 1px solid gray;flex-grow: 1;}#sk-container-id-2 div.sk-label:hover label.sk-toggleable__label {background-color: #d4ebff;}#sk-container-id-2 div.sk-serial::before {content: \"\";position: absolute;border-left: 1px solid gray;box-sizing: border-box;top: 0;bottom: 0;left: 50%;z-index: 0;}#sk-container-id-2 div.sk-serial {display: flex;flex-direction: column;align-items: center;background-color: white;padding-right: 0.2em;padding-left: 0.2em;position: relative;}#sk-container-id-2 div.sk-item {position: relative;z-index: 1;}#sk-container-id-2 div.sk-parallel {display: flex;align-items: stretch;justify-content: center;background-color: white;position: relative;}#sk-container-id-2 div.sk-item::before, #sk-container-id-2 div.sk-parallel-item::before {content: \"\";position: absolute;border-left: 1px solid gray;box-sizing: border-box;top: 0;bottom: 0;left: 50%;z-index: -1;}#sk-container-id-2 div.sk-parallel-item {display: flex;flex-direction: column;z-index: 1;position: relative;background-color: white;}#sk-container-id-2 div.sk-parallel-item:first-child::after {align-self: flex-end;width: 50%;}#sk-container-id-2 div.sk-parallel-item:last-child::after {align-self: flex-start;width: 50%;}#sk-container-id-2 div.sk-parallel-item:only-child::after {width: 0;}#sk-container-id-2 div.sk-dashed-wrapped {border: 1px dashed gray;margin: 0 0.4em 0.5em 0.4em;box-sizing: border-box;padding-bottom: 0.4em;background-color: white;}#sk-container-id-2 div.sk-label label {font-family: monospace;font-weight: bold;display: inline-block;line-height: 1.2em;}#sk-container-id-2 div.sk-label-container {text-align: center;}#sk-container-id-2 div.sk-container {/* jupyter's `normalize.less` sets `[hidden] { display: none; }` but bootstrap.min.css set `[hidden] { display: none !important; }` so we also need the `!important` here to be able to override the default hidden behavior on the sphinx rendered scikit-learn.org. See: https://github.com/scikit-learn/scikit-learn/issues/21755 */display: inline-block !important;position: relative;}#sk-container-id-2 div.sk-text-repr-fallback {display: none;}</style><div id=\"sk-container-id-2\" class=\"sk-top-container\"><div class=\"sk-text-repr-fallback\"><pre>RandomForestRegressor(max_depth=20, max_features=&#x27;sqrt&#x27;, n_estimators=200)</pre><b>In a Jupyter environment, please rerun this cell to show the HTML representation or trust the notebook. <br />On GitHub, the HTML representation is unable to render, please try loading this page with nbviewer.org.</b></div><div class=\"sk-container\" hidden><div class=\"sk-item\"><div class=\"sk-estimator sk-toggleable\"><input class=\"sk-toggleable__control sk-hidden--visually\" id=\"sk-estimator-id-2\" type=\"checkbox\" checked><label for=\"sk-estimator-id-2\" class=\"sk-toggleable__label sk-toggleable__label-arrow\">RandomForestRegressor</label><div class=\"sk-toggleable__content\"><pre>RandomForestRegressor(max_depth=20, max_features=&#x27;sqrt&#x27;, n_estimators=200)</pre></div></div></div></div></div>"
      ],
      "text/plain": [
       "RandomForestRegressor(max_depth=20, max_features='sqrt', n_estimators=200)"
      ]
     },
     "execution_count": 17,
     "metadata": {},
     "output_type": "execute_result"
    }
   ],
   "source": [
    "# The Best parameters found found by the above two groups are the same.\n",
    "# Next use the best parameters to train a new forest regressor\n",
    "new_rf = RandomForestRegressor(**random_search.best_params_)\n",
    "new_rf.fit(x_trn, y_trn)\n",
    "\n"
   ]
  },
  {
   "cell_type": "code",
   "execution_count": 18,
   "metadata": {},
   "outputs": [],
   "source": [
    "#Define a function to draw a histogram comparison chart\n",
    "def plot_comparison(model1_results, model2_results):\n",
    "    labels = ['Train R-squared', 'Val R-squared', 'Train RMSE', 'Val RMSE']\n",
    "    model1_metrics = model1_results[1]\n",
    "    model2_metrics = model2_results[1]\n",
    "\n",
    "    x = np.arange(len(labels))\n",
    "    width = 0.35\n",
    "\n",
    "    fig, ax = plt.subplots()\n",
    "    rects1 = ax.bar(x - width/2, model1_metrics, width, label='Model 1')\n",
    "    rects2 = ax.bar(x + width/2, model2_metrics, width, label='Model 2')\n",
    "\n",
    "    ax.set_ylabel('Scores')\n",
    "    ax.set_title('Comparison between Model 1 and new RF')\n",
    "    ax.set_xticks(x)\n",
    "    ax.set_xticklabels(labels)\n",
    "    ax.legend()\n",
    "\n",
    "    def autolabel(rects):\n",
    "        for rect in rects:\n",
    "            height = rect.get_height()\n",
    "            ax.annotate('{}'.format(round(height, 2)),\n",
    "                        xy=(rect.get_x() + rect.get_width() / 2, height),\n",
    "                        xytext=(0, 3),\n",
    "                        textcoords=\"offset points\",\n",
    "                        ha='center', va='bottom')\n",
    "\n",
    "    autolabel(rects1)\n",
    "    autolabel(rects2)\n",
    "\n",
    "    fig.tight_layout()\n",
    "\n",
    "    plt.show()\n"
   ]
  },
  {
   "cell_type": "code",
   "execution_count": 19,
   "metadata": {},
   "outputs": [
    {
     "name": "stdout",
     "output_type": "stream",
     "text": [
      "('train rsq,val rsq,train rmse, val rmse', [0.5398007462595196, 0.41407770777654374, 31.373517526210975, 41.402241570200985])\n",
      "('train rsq,val rsq,train rmse, val rmse', [0.8964688052034036, 0.471087676848742, 14.880786010878529, 39.33649741979671])\n"
     ]
    }
   ],
   "source": [
    "mod1_results = rsq_n_rmse(mod_1, x_trn, y_trn, x_val, y_val)\n",
    "\n",
    "new_rf_results = rsq_n_rmse(new_rf, x_trn, y_trn, x_val, y_val)\n",
    "\n",
    "print(mod1_results)\n",
    "print(new_rf_results)"
   ]
  },
  {
   "cell_type": "code",
   "execution_count": 20,
   "metadata": {},
   "outputs": [
    {
     "data": {
      "image/png": "[encoded data removed]",
      "text/plain": [
       "<Figure size 640x480 with 1 Axes>"
      ]
     },
     "metadata": {},
     "output_type": "display_data"
    }
   ],
   "source": [
    "# Draw a comparison chart. It can be seen from the figure that the performance has improved a lot\n",
    "plot_comparison(mod1_results, new_rf_results)"
   ]
  },
  {
   "cell_type": "code",
   "execution_count": 21,
   "metadata": {},
   "outputs": [],
   "source": [
    "def plot_feature_importance(model, x_trn, figsize=(8, 6)):\n",
    "\n",
    "    '''Plot the feature importance scores of a given model.\n",
    "\n",
    "    Parameters:\n",
    "        model (object): The trained machine learning model \n",
    "        with a feature_importances_ attribute.\n",
    "        X_train (DataFrame): The feature matrix used to \n",
    "        train the model.\n",
    "        figsize (tuple, optional): Figure size for the plot. \n",
    "        Defaults to (8, 6) '''\n",
    "    \n",
    "    # Calculate feature importance scores\n",
    "    feature_importances = pd.DataFrame(model.feature_importances_,\n",
    "                                       index=x_trn.columns,\n",
    "                                       columns=['Importance Score']).sort_values('Importance Score', \n",
    "                                                                                 ascending=False)\n",
    "    \n",
    "    # Reset index and rename columns for better readability\n",
    "    feature_importances = feature_importances.reset_index()\n",
    "    feature_importances.columns = [\"Feature\", \"Importance Score\"]\n",
    "    \n",
    "    # Plotting\n",
    "    plt.figure(figsize=figsize)\n",
    "    sns.barplot(x=\"Importance Score\", y=\"Feature\", \n",
    "                data=feature_importances, orient=\"h\")\n",
    "    plt.title('Feature Importance Scores')\n",
    "    plt.xlabel('Importance Score')\n",
    "    plt.ylabel('Features')\n",
    "    plt.show()"
   ]
  },
  {
   "cell_type": "code",
   "execution_count": 22,
   "metadata": {},
   "outputs": [
    {
     "data": {
      "image/png": "[encoded data removed]",
      "text/plain": [
       "<Figure size 800x600 with 1 Axes>"
      ]
     },
     "metadata": {},
     "output_type": "display_data"
    }
   ],
   "source": [
    "# plot feature importance\n",
    "plot_feature_importance(mod_1, x_trn, figsize=(8, 6))"
   ]
  },
  {
   "cell_type": "code",
   "execution_count": 23,
   "metadata": {},
   "outputs": [
    {
     "name": "stdout",
     "output_type": "stream",
     "text": [
      "Index(['Survived', 'Pclass', 'Sex', 'Age', 'SibSp', 'Parch', 'Cabin_A',\n",
      "       'Cabin_B', 'Cabin_C', 'Cabin_D', 'Cabin_E', 'Cabin_F', 'Cabin_G',\n",
      "       'Cabin_T', 'Embarked_Q', 'Embarked_S'],\n",
      "      dtype='object')\n",
      "Index(['Survived', 'Pclass', 'Sex', 'Age', 'SibSp', 'Parch', 'Cabin_A',\n",
      "       'Cabin_B', 'Cabin_C', 'Cabin_D', 'Cabin_E', 'Cabin_F', 'Cabin_G',\n",
      "       'Cabin_T', 'Embarked_Q', 'Embarked_S'],\n",
      "      dtype='object')\n"
     ]
    }
   ],
   "source": [
    "#检查训练数据集 x_trn 中的列名\n",
    "print(x_trn.columns)\n",
    "print(x_val.columns)\n"
   ]
  },
  {
   "cell_type": "code",
   "execution_count": 24,
   "metadata": {},
   "outputs": [
    {
     "data": {
      "text/plain": [
       "('train rsq,val rsq,train rmse, val rmse',\n",
       " [0.900158103327533,\n",
       "  0.47394680724037586,\n",
       "  14.613245141882755,\n",
       "  39.23003310211329])"
      ]
     },
     "execution_count": 24,
     "metadata": {},
     "output_type": "execute_result"
    }
   ],
   "source": [
    "# Remove features with very small feature importance values\n",
    "# Remove Cabin_C\n",
    "x_trn.drop(['Cabin_C'], axis=1, inplace=True)\n",
    "\n",
    "# Re-run model\n",
    "new_rf = RandomForestRegressor(**random_search.best_params_)\n",
    "new_rf.fit(x_trn, y_trn)\n",
    "\n",
    "# Adjust validation set accordingly\n",
    "x_val_adjusted = x_val.drop(['Cabin_C'], axis=1)\n",
    "\n",
    "# See if we get performance improvements: smaller the rmse value and greater the R Squared, the better\n",
    "rsq_n_rmse(new_rf, x_trn, y_trn, x_val_adjusted, y_val)\n"
   ]
  },
  {
   "cell_type": "markdown",
   "metadata": {},
   "source": [
    "# 5. Test out your model"
   ]
  },
  {
   "cell_type": "code",
   "execution_count": 25,
   "metadata": {},
   "outputs": [
    {
     "name": "stdout",
     "output_type": "stream",
     "text": [
      "(891, 12)\n"
     ]
    },
    {
     "data": {
      "text/html": [
       "<div>\n",
       "<style scoped>\n",
       "    .dataframe tbody tr th:only-of-type {\n",
       "        vertical-align: middle;\n",
       "    }\n",
       "\n",
       "    .dataframe tbody tr th {\n",
       "        vertical-align: top;\n",
       "    }\n",
       "\n",
       "    .dataframe thead th {\n",
       "        text-align: right;\n",
       "    }\n",
       "</style>\n",
       "<table border=\"1\" class=\"dataframe\">\n",
       "  <thead>\n",
       "    <tr style=\"text-align: right;\">\n",
       "      <th></th>\n",
       "      <th>PassengerId</th>\n",
       "      <th>Survived</th>\n",
       "      <th>Pclass</th>\n",
       "      <th>Name</th>\n",
       "      <th>Sex</th>\n",
       "      <th>Age</th>\n",
       "      <th>SibSp</th>\n",
       "      <th>Parch</th>\n",
       "      <th>Ticket</th>\n",
       "      <th>Fare</th>\n",
       "      <th>Cabin</th>\n",
       "      <th>Embarked</th>\n",
       "    </tr>\n",
       "  </thead>\n",
       "  <tbody>\n",
       "    <tr>\n",
       "      <th>0</th>\n",
       "      <td>1</td>\n",
       "      <td>0</td>\n",
       "      <td>3</td>\n",
       "      <td>Braund, Mr. Owen Harris</td>\n",
       "      <td>male</td>\n",
       "      <td>22.0</td>\n",
       "      <td>1</td>\n",
       "      <td>0</td>\n",
       "      <td>A/5 21171</td>\n",
       "      <td>7.2500</td>\n",
       "      <td>NaN</td>\n",
       "      <td>S</td>\n",
       "    </tr>\n",
       "    <tr>\n",
       "      <th>1</th>\n",
       "      <td>2</td>\n",
       "      <td>1</td>\n",
       "      <td>1</td>\n",
       "      <td>Cumings, Mrs. John Bradley (Florence Briggs Th...</td>\n",
       "      <td>female</td>\n",
       "      <td>38.0</td>\n",
       "      <td>1</td>\n",
       "      <td>0</td>\n",
       "      <td>PC 17599</td>\n",
       "      <td>71.2833</td>\n",
       "      <td>C85</td>\n",
       "      <td>C</td>\n",
       "    </tr>\n",
       "  </tbody>\n",
       "</table>\n",
       "</div>"
      ],
      "text/plain": [
       "   PassengerId  Survived  Pclass  \\\n",
       "0            1         0       3   \n",
       "1            2         1       1   \n",
       "\n",
       "                                                Name     Sex   Age  SibSp  \\\n",
       "0                            Braund, Mr. Owen Harris    male  22.0      1   \n",
       "1  Cumings, Mrs. John Bradley (Florence Briggs Th...  female  38.0      1   \n",
       "\n",
       "   Parch     Ticket     Fare Cabin Embarked  \n",
       "0      0  A/5 21171   7.2500   NaN        S  \n",
       "1      0   PC 17599  71.2833   C85        C  "
      ]
     },
     "execution_count": 25,
     "metadata": {},
     "output_type": "execute_result"
    }
   ],
   "source": [
    "'''Read in test data'''\n",
    "titanic_test_raw = pd.read_csv('Titanic_test.csv')\n",
    "print(titanic_test_raw.shape)\n",
    "titanic_test_raw.head(2)"
   ]
  },
  {
   "cell_type": "code",
   "execution_count": 26,
   "metadata": {},
   "outputs": [
    {
     "name": "stdout",
     "output_type": "stream",
     "text": [
      "   Survived  Pclass  Sex   Age  SibSp  Parch  Cabin_A  Cabin_B  Cabin_C  \\\n",
      "0         0       3    1  22.0      1      0    False     True    False   \n",
      "1         1       1    0  38.0      1      0    False    False     True   \n",
      "2         1       3    0  26.0      0      0    False     True    False   \n",
      "3         1       1    0  35.0      1      0    False    False     True   \n",
      "4         0       3    1  35.0      0      0    False     True    False   \n",
      "\n",
      "   Cabin_D  Cabin_E  Cabin_F  Cabin_G  Cabin_T  Embarked_Q  Embarked_S  \n",
      "0    False    False    False    False    False       False        True  \n",
      "1    False    False    False    False    False       False       False  \n",
      "2    False    False    False    False    False       False        True  \n",
      "3    False    False    False    False    False       False        True  \n",
      "4    False    False    False    False    False       False        True  \n"
     ]
    }
   ],
   "source": [
    "#Preprocess this data in exactly the same way. \n",
    "titanic_test_raw = fill_missing_values(titanic_test_raw)\n",
    "titanic_test_raw = convert_categorical_variables(titanic_test_raw)\n",
    "titanic_test_raw = drop_unnecessary_fields(titanic_test_raw)\n",
    "actual_fare = titanic_test_raw[\"Fare\"] \n",
    "titanic_test_raw.drop('Fare', axis=1, inplace=True)\n",
    "\n",
    "print(titanic_test_raw.head())\n"
   ]
  },
  {
   "cell_type": "code",
   "execution_count": 27,
   "metadata": {
    "scrolled": true
   },
   "outputs": [],
   "source": [
    "# Predictions for the test set\n",
    "\n",
    "predictions = mod_1.predict(titanic_test_raw)"
   ]
  },
  {
   "cell_type": "markdown",
   "metadata": {},
   "source": [
    "Student exercise: \n",
    "1.Use Kaggle to find out how well we did"
   ]
  },
  {
   "cell_type": "code",
   "execution_count": 28,
   "metadata": {},
   "outputs": [
    {
     "name": "stdout",
     "output_type": "stream",
     "text": [
      "[ 15.4133201   93.89211915  10.77612811  97.4524725    8.61587691\n",
      "   8.94055732  55.66220476  30.14335274  17.33496266  20.79573728\n",
      "  20.17510519  76.39986403   8.44543465  22.55889866   8.63546138\n",
      "  15.6982045   30.14335274  16.27716126  15.71645408  10.80594182\n",
      "  15.62927162  15.59734718  10.0968827   74.3593576   29.84901125\n",
      "  22.1537831    8.98639697 107.49121591  10.67882442   9.02578298\n",
      "  67.07833669 101.98148869  10.67882442  15.62927162  85.33036225\n",
      "  63.28911584  10.63612607   8.44543465  25.02554661  15.95303394\n",
      "  15.68217605  20.2739076    8.98639697  24.44218482  10.0968827\n",
      "   9.02578298  15.61045302  10.67882442  25.16688412  15.38122866\n",
      "  30.14335274   8.44543465  85.30699601  20.2258991   86.91644713\n",
      "  78.19629252  17.13699726   8.81079383  24.44218482  32.0735836\n",
      "   8.4632513   80.02576612  62.08946402  32.0735836   83.24744487\n",
      "  20.43745942  15.91500433   8.44543465  31.29231911  25.12320602\n",
      "  15.51391606  31.77924211  17.06806439  15.53730506  10.52298067\n",
      "   8.46893397   9.02578298   9.02578298  20.9189412   10.81457883\n",
      "   8.43952449  10.58736264  10.67882442  74.3593576   17.13699726\n",
      "  25.83147185  22.51045161   9.02578298 115.8598594    8.46893397\n",
      "   8.85017983   8.44543465  59.92862762  22.36975816   8.61587691\n",
      "   9.02578298  63.65844495 104.25422379  17.52028858  19.75439455\n",
      "   9.19559872   9.02578298  99.76047958   8.61587691  25.07847414\n",
      "   9.02578298  10.22365625  10.69889503   8.61587691  16.28157971\n",
      "  57.58362047  15.38122866   8.43952449  15.38122866   8.65918818\n",
      "   8.44543465   8.53065126  20.02236806 104.25422379  31.77924211\n",
      "  26.9396822    9.02578298  19.69428329  15.63809324  83.31455\n",
      "  15.98204145   8.94055732  10.06612294  20.07808983   8.61587691\n",
      "   8.57649091   8.44543465  15.68217605  20.2258991   17.06806439\n",
      "  17.06806439 108.80471594  69.62104406   8.44543465  83.24744487\n",
      "  16.75025071  10.22674019  15.98552736   8.4233218   17.06806439\n",
      "  23.1186689   10.60631236  31.4188796   20.06425353  15.62927162\n",
      "  15.62927162  98.06562749   8.61587691  16.51005569   9.02578298\n",
      "  86.91644713  10.0968827    8.7145369    9.02578298  31.93289015\n",
      "  14.03427133  15.6982045    8.88079448   8.44543465  30.14335274\n",
      "  17.44902251 108.80471594  22.19952907  74.3593576    9.02578298\n",
      "  55.66220476  30.14335274  20.17510519   8.44543465  63.65844495\n",
      "  20.4395273   30.04633738  84.33299512  15.42967861   8.61587691\n",
      "  31.63854866  16.3090857   32.0735836   29.8558379   17.42731842\n",
      "  74.3593576   16.28157971  56.09735285  20.6723459    8.61587691\n",
      "  15.58284893  17.06806439  15.95303394  23.21361638  82.97026421\n",
      "  82.91086069   8.94055732  14.03427133  10.67882442  17.16892171\n",
      "   9.02578298  31.93289015   8.61587691   8.57649091  10.03362953\n",
      "  14.26297497  15.71118356  10.6066562   10.0968827   67.45408126\n",
      "   8.46893397  15.6982045    8.43952449  15.42967861  15.61045302\n",
      " 101.36833369  10.77612811  19.75439455  99.2854163   15.42967861\n",
      "  10.03362953  16.81479385   8.61587691   9.02578298  69.99678863\n",
      "   8.43952449  17.03613994   8.44543465  17.06806439  29.7519959\n",
      "  97.4524725    8.85017983  15.62927162  31.43301256  17.06806439\n",
      "   9.19559872  19.75439455  20.84408831  17.06806439  15.62927162\n",
      "  15.58144552  16.28157971  15.84607146   8.43952449   8.67515089\n",
      "  68.58745566   8.6589607   20.70339486  92.23490347  19.75439455\n",
      "   9.02578298  20.3129763   57.82304116  15.74546158  16.52554107\n",
      "  17.3353065   99.8985713   90.39732904  98.97219837  17.52028858\n",
      "   8.94055732  31.72735404  87.52156933  59.08209651   9.05518895\n",
      "  15.62927162  30.14335274  16.01453486  96.4453192   93.24545316\n",
      "  74.3593576   10.06612294  17.52028858  95.40360709  10.67882442\n",
      "  79.12163983   8.84309311  16.3090857   30.14335274  20.26723034\n",
      "   8.53065126   9.02578298   8.44543465  10.03362953  74.3593576\n",
      "   8.57649091  10.58736264   8.43952449  15.59734718  10.09996663\n",
      "  91.01048404 101.98148869  15.62927162   8.6589607    8.46893397\n",
      "  83.24744487   8.4632513  115.8598594   78.19629252  98.56197279\n",
      "  10.67882442  25.37845675   8.44543465  16.37801858   9.02578298\n",
      " 107.49121591  99.8985713  105.45546621  19.5901128   99.2854163\n",
      " 103.37254882 115.38137754  22.75929931   9.02578298  22.59667369\n",
      "  10.77612811  20.79573728  15.62927162 111.35290299 104.49195825\n",
      "   8.43952449   8.88079448  15.49861148  22.71355334  31.93289015\n",
      "  92.37672527   8.61587691  15.6982045   20.26723034 113.29846015\n",
      "  25.37845675  57.88244469  91.48907449  25.02554661  94.90428544\n",
      "   9.02578298  82.09009393  87.23025423  10.52298067  55.72160828\n",
      "  23.21361638 115.8598594   16.3090857   17.06806439  15.62927162\n",
      "  17.13699726  15.6982045   16.28157971  20.53447478   8.61587691\n",
      "   8.43952449  78.19629252  20.58022075  15.44272958   8.98639697\n",
      "   9.02578298 108.80471594  15.73012894  10.67882442  10.67882442\n",
      "  22.55889866  20.02236806  14.01037072   8.61587691  15.61045302\n",
      "   8.7145369   85.30699601  10.80594182  10.67882442  99.8985713\n",
      "  85.33036225  15.41023616   8.44543465  83.24744487  29.84901125\n",
      " 101.98148869  10.22674019 108.40379418   8.46916146   8.44543465\n",
      "  87.23025423  17.42766226   8.61587691  94.29113044   9.02578298\n",
      "  17.06806439  32.0735836   15.6982045    8.94055732  17.13699726\n",
      "  93.11564491  10.03362953  25.16688412 101.98148869  17.28662497\n",
      "   8.43952449   8.87737113  15.62927162  17.06806439  16.37801858\n",
      "  10.52298067   8.88079448  15.38122866  15.61045302   8.63546138\n",
      "  19.75439455   8.61587691  23.21361638   8.44543465  29.7519959\n",
      "   9.02578298   8.94055732 104.84231121  16.3090857   10.52298067\n",
      "   9.19559872  22.19155813  20.70339486  15.42967861  16.77546795\n",
      "   8.98639697   8.4233218    8.85017983  20.1238358   20.4395273\n",
      "   9.02578298  20.03675859  17.13699726   8.94055732  10.52298067\n",
      "  78.19629252  16.28157971  19.95792558   8.44543465  59.86922409\n",
      " 112.69851735  31.27818615  31.00874099  89.68240574  15.44085801\n",
      "  22.19155813   8.44543465  15.44272958  16.37801858  10.69889503\n",
      "  99.76047958  18.8115434   72.70279845  29.14241918  58.19878573\n",
      "  24.2749493   15.61045302  86.05367404  68.90379671   9.02578298\n",
      "  10.52459367  55.66220476  94.90428544  15.6982045    8.94055732\n",
      "  55.79852864   8.61587691  55.42278407  15.62927162   9.02578298\n",
      "   8.61587691  16.3090857   55.66220476   8.94055732  29.14241918\n",
      "   9.02578298   8.61587691  23.86983374  17.13699726   8.62955122\n",
      "  74.3593576   19.75439455  15.74546158   8.43952449  15.01245117\n",
      "  32.0735836   16.3090857    8.61587691  10.75019687  85.33036225\n",
      "  29.7519959   97.4524725   63.65844495   8.7145369   20.53447478\n",
      "  15.61045302   8.44543465  57.82304116  63.65844495   8.44543465\n",
      "   8.98639697  85.30699601   9.02578298 115.8598594    8.46893397\n",
      "   8.44543465   8.55816441   9.05518895   8.84309311  91.01048404\n",
      "  89.47993265  19.64317108  74.3593576    9.02578298  10.60631236\n",
      "  10.4526604    9.02578298  62.83357581  85.30699601   8.46893397\n",
      "  55.42278407  15.6982045    8.94055732  19.95792558   8.61587691\n",
      "  90.39732904   8.43952449   8.98639697  98.62137632   8.98639697\n",
      "   8.53065126  15.6982045   78.19629252   8.61587691  30.06137401\n",
      "  22.85424679   8.98639697  20.4395273   17.3353065    8.9417531\n",
      "  20.84408831  55.72160828  99.2854163    9.02578298 113.29846015\n",
      "  99.37466724  31.77924211  31.77924211  19.93249364  68.52805214\n",
      "  55.66220476  20.79573728  16.27716126  20.6723459   23.21361638\n",
      " 108.40379418  16.81479385   8.94055732  10.03705731  10.22674019\n",
      "  55.66220476  85.06757531  83.24744487 102.70094513  16.41658827\n",
      "   8.94055732   8.61587691  16.3090857    9.02578298   9.19559872\n",
      "  25.02863054   8.44543465  16.72556597   8.98639697  10.52298067\n",
      "  15.59734718  80.60688337  62.83357581  10.67882442   8.44543465\n",
      "   8.44543465  15.6982045   83.44103338  15.58144552  10.52298067\n",
      "  22.71355334 107.96593577  15.62927162  70.45407143   8.98639697\n",
      " 108.80471594  15.62927162  89.68832702   8.43952449   9.02578298\n",
      "   8.61587691  85.30699601   8.61587691  16.64922694  19.75439455\n",
      "  20.6723459   16.37801858   8.61587691   8.98639697  66.43032483\n",
      "  29.42080297   9.02578298  74.3593576    8.61587691  81.59088571\n",
      "  15.71118356   8.7145369   74.3593576   24.30149137  82.39535609\n",
      "  22.19952907   9.02578298  16.28157971   8.94055732   8.61587691\n",
      "  24.30149137  20.6723459   15.50829756  29.56149642  17.06806439\n",
      "  15.53730506  63.66486041  20.39378133   8.44543465   8.44543465\n",
      "  55.66220476  15.62927162  91.01048404   8.88079448   8.94055732\n",
      "  56.03794933   8.61587691  81.90410364  74.3593576   31.77924211\n",
      "  16.37801858   8.61587691  22.50621365  16.52554107  15.61045302\n",
      "   8.44543465  99.8985713   31.77924211  10.69889503  29.14241918\n",
      "  66.19090414   8.44543465  64.03418952   9.02578298  10.22674019\n",
      "   9.02578298  18.67084995   8.44543465  10.67882442   8.55816441\n",
      "  26.9396822    9.02578298  20.3129763   17.06806439  86.91644713\n",
      "  60.24496866   8.57649091  55.42278407   8.61587691  15.98204145\n",
      "  26.48753746  17.06806439   9.02578298   8.61587691  98.06562749\n",
      "  22.19155813  76.90981779  15.62927162  15.40893357  16.3090857\n",
      "   8.44543465   8.46893397  10.22365625  22.19952907  92.51052271\n",
      "   9.05518895  83.24744487   8.44543465  32.0735836   22.59667369\n",
      "  24.70660693  30.14335274   8.44543465   8.44543465 108.80471594\n",
      "  76.90981779  15.01279501  10.69889503   8.49266078  55.66220476\n",
      "  15.62927162   8.61587691  10.67882442  91.78605433   8.61587691\n",
      " 105.45546621  72.70279845  14.14600832   8.44682112  15.53730506\n",
      "  15.62927162  15.6982045   59.45784108  91.01048404  20.43745942\n",
      " 103.37254882  78.19629252  62.16638437   8.85017983  15.62927162\n",
      "   8.44543465  91.49598383  16.88372673   8.94055732   8.61587691\n",
      "  18.8115434   15.41023616  15.62927162  15.62927162  78.25315901\n",
      "   8.44543465  26.93754344  10.67882442  20.59220624  15.41372207\n",
      "  91.01048404   8.46916146  16.3090857   17.06806439  17.06806439\n",
      "   8.85017983  22.19952907  81.59088571   9.02578298   9.02578298\n",
      "  74.3593576   70.5017855  115.38137754  15.44272958  10.52298067\n",
      "  87.52156933  20.58022075  15.49861148  78.25315901   8.56492928\n",
      "  22.85424679  15.03415525   8.61587691   8.43952449  23.86983374\n",
      "  23.21361638   9.02578298  17.06806439   8.61587691  90.39732904\n",
      "   9.02578298   8.61587691  10.03397337 103.58168657   8.44543465\n",
      "  79.12163983  83.24744487   8.80134332  15.61045302   8.61587691\n",
      "   8.46893397   8.61587691  15.73012894   8.98639697  23.86983374\n",
      "   8.44543465   8.94055732  10.22365625   8.94055732  98.4939258\n",
      "  10.2240001   94.90428544  74.3593576   22.36975816   8.46893397\n",
      "   8.46893397  10.22365625  30.14335274  22.46470564  63.71784847\n",
      "   8.94055732  17.06806439  31.63854866  83.24744487   8.46893397\n",
      "  15.62927162  74.9146205   10.75019687   8.67515089  20.3129763\n",
      "  15.62927162  22.10109809 103.65428099  15.0344991   10.60631236\n",
      "   8.65015494  60.78533773   8.63546138  15.62927162  94.29113044\n",
      "   8.88079448   8.61587691  15.62927162  31.77924211   8.7145369\n",
      "  74.3593576    8.62955122  22.50621365   8.61587691  32.0735836\n",
      "  99.167095    10.60631236  61.57708981  14.95680403  30.14335274\n",
      "   8.94055732   9.02578298  20.9189412   10.56419279  74.9146205\n",
      "  15.95303394  23.21361638   8.98639697   8.43952449   8.44543465\n",
      " 104.49195825   8.44543465   9.02578298  10.52298067  87.39701526\n",
      "   8.44543465  17.06806439  99.2854163    8.57649091   8.44543465\n",
      "   8.61587691  31.93289015   8.57649091  18.33295371 105.45546621\n",
      "  32.0735836    8.61587691  20.22085116 108.80471594  19.68936644\n",
      "  14.87175772  99.22649852  56.03794933  17.28696882   8.98639697\n",
      "  25.07847414  20.59220624  74.67519981  31.63854866  17.06806439\n",
      "  15.6982045   20.54246674  73.01601638   9.02578298  20.53447478\n",
      "   8.88079448  98.9276743   73.01601638   8.61587691  20.03675859\n",
      "  10.2240001    8.44543465   8.44543465   9.02578298 100.3598518\n",
      "  18.67084995   8.61587691   8.62955122  16.3090857    8.46893397\n",
      "  16.3851313   16.81479385  91.01048404  22.01038857  87.39701526\n",
      "   8.53065126]\n"
     ]
    }
   ],
   "source": [
    "#Print out the fare prediction results for each sample in the test data set\n",
    "print(predictions)"
   ]
  },
  {
   "cell_type": "code",
   "execution_count": 29,
   "metadata": {},
   "outputs": [
    {
     "name": "stdout",
     "output_type": "stream",
     "text": [
      "0       7.2500\n",
      "1      71.2833\n",
      "2       7.9250\n",
      "3      53.1000\n",
      "4       8.0500\n",
      "        ...   \n",
      "886    13.0000\n",
      "887    30.0000\n",
      "888    23.4500\n",
      "889    30.0000\n",
      "890     7.7500\n",
      "Name: Fare, Length: 891, dtype: float64\n"
     ]
    }
   ],
   "source": [
    "# print actual fare\n",
    "print(actual_fare)"
   ]
  },
  {
   "cell_type": "code",
   "execution_count": 30,
   "metadata": {},
   "outputs": [
    {
     "data": {
      "image/png": "[encoded data removed]",
      "text/plain": [
       "<Figure size 800x600 with 1 Axes>"
      ]
     },
     "metadata": {},
     "output_type": "display_data"
    }
   ],
   "source": [
    "# Draw a scatter plot, the horizontal axis represents the Actual Fare, and the vertical axis represents the Predicted Fare. \n",
    "# By observing the distribution of scatter points, you can intuitively understand the prediction effect of the model and the relationship between actual fares and predicted fares.\n",
    "plt.figure(figsize=(8, 6))\n",
    "plt.scatter(actual_fare, predictions, color='blue', alpha=0.5)\n",
    "plt.plot([min(actual_fare), max(actual_fare)], [min(actual_fare), max(actual_fare)], color='red', linestyle='--')  # 添加对角线\n",
    "plt.title('Actual Fare vs. Predicted Fare')\n",
    "plt.xlabel('Actual Fare')\n",
    "plt.ylabel('Predicted Fare')\n",
    "plt.grid(True)\n",
    "plt.show()"
   ]
  },
  {
   "cell_type": "markdown",
   "metadata": {},
   "source": [
    "This graph is a scatter plot showing the relationship between actual and predicted fares. The blue dots represent data points, i.e. each observed actual fare and corresponding predicted fare. The red dashed line represents perfect prediction, that is, if the predicted value and the actual value are exactly the same, all data points will fall on this line.\n",
    "\n",
    "The following points can be observed from the figure:\n",
    "\n",
    "The data points are mostly clustered in areas with lower fares, suggesting that most fares are relatively low. The data points are relatively scattered near the red dotted line, indicating that there is a certain deviation between the predicted value and the actual value. There are some data points that are very far from the red dashed line, indicating that for these points the predicted and actual values are very different. Overall, the regression model's predictions seem to be relatively tight in low-fare areas, but as fares increase, the deviation between the predicted values and the actual values also increases. This may indicate that the model is less predictive for higher fares. This model may be suitable for predicting common low fares, but may not be accurate enough for predictions of high fares or extreme values."
   ]
  },
  {
   "cell_type": "markdown",
   "metadata": {},
   "source": [
    "# 6. Linear Regression"
   ]
  },
  {
   "cell_type": "code",
   "execution_count": 31,
   "metadata": {},
   "outputs": [
    {
     "name": "stdout",
     "output_type": "stream",
     "text": [
      "Mean Squared Error: 1518.4507426408602\n",
      "Mean Absolute Error: 20.965956178782665\n",
      "R^2 Score: 0.38441152293840497\n"
     ]
    }
   ],
   "source": [
    "#Initialize linear regression model\n",
    "mod_linear = LinearRegression()\n",
    "\n",
    "#Train model\n",
    "mod_linear.fit(x_trn,y_trn)\n",
    "\n",
    "# Make predictions on the test set\n",
    "titanic_test_raw.drop(['Cabin_C'], axis=1, inplace=True)\n",
    "linear_pred =mod_linear.predict(titanic_test_raw)\n",
    "\n",
    "# Computational performance\n",
    "mse = mean_squared_error(actual_fare, linear_pred)\n",
    "print(\"Mean Squared Error:\", mse)\n",
    "mae = mean_absolute_error(actual_fare, linear_pred)\n",
    "print(\"Mean Absolute Error:\", mae)\n",
    "r2 = r2_score(actual_fare, linear_pred)\n",
    "print(\"R^2 Score:\", r2)"
   ]
  },
  {
   "cell_type": "markdown",
   "metadata": {},
   "source": [
    "Based on the value of R^2 Score, the linear regression model demonstrates relatively weak performance in explaining the variance of the data. Further improvement in feature engineering, model selection, or exploration of more complex models may be necessary to enhance the model's performance."
   ]
  },
  {
   "cell_type": "code",
   "execution_count": null,
   "metadata": {},
   "outputs": [],
   "source": []
  }
 ],
 "metadata": {
  "kernelspec": {
   "display_name": "Python 3 (ipykernel)",
   "language": "python",
   "name": "python3"
  },
  "language_info": {
   "codemirror_mode": {
    "name": "ipython",
    "version": 3
   },
   "file_extension": ".py",
   "mimetype": "text/x-python",
   "name": "python",
   "nbconvert_exporter": "python",
   "pygments_lexer": "ipython3",
   "version": "3.11.5"
  }
 },
 "nbformat": 4,
 "nbformat_minor": 2
}
